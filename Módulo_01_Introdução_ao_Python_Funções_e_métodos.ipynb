{
  "nbformat": 4,
  "nbformat_minor": 0,
  "metadata": {
    "colab": {
      "provenance": [],
      "collapsed_sections": [
        "F_1HAr6TO37L",
        "OCESK5IrX2wK",
        "TI-bMo3ubvrD"
      ],
      "include_colab_link": true
    },
    "kernelspec": {
      "name": "python3",
      "display_name": "Python 3"
    },
    "language_info": {
      "name": "python"
    }
  },
  "cells": [
    {
      "cell_type": "markdown",
      "metadata": {
        "id": "view-in-github",
        "colab_type": "text"
      },
      "source": [
        "<a href=\"https://colab.research.google.com/github/guimossibento/FullscreenBookBlock/blob/master/M%C3%B3dulo_01_Introdu%C3%A7%C3%A3o_ao_Python_Fun%C3%A7%C3%B5es_e_m%C3%A9todos.ipynb\" target=\"_parent\"><img src=\"https://colab.research.google.com/assets/colab-badge.svg\" alt=\"Open In Colab\"/></a>"
      ]
    },
    {
      "cell_type": "markdown",
      "source": [
        "<center><img src = \"https://github.com/Trading-com-Dados/pmf/blob/main/logotipo-trading-com-dados.svg?raw=true\" width = \"200\">"
      ],
      "metadata": {
        "id": "LhC1zhTvkPk_"
      }
    },
    {
      "cell_type": "markdown",
      "source": [
        "<center><img src = \"https://github.com/Trading-com-Dados/pmf/blob/main/PMF%20002.png?raw=true\" width = \"700\">"
      ],
      "metadata": {
        "id": "2nM6YF8pimKI"
      }
    },
    {
      "cell_type": "markdown",
      "source": [
        "# **Python para Mercado Financeiro**"
      ],
      "metadata": {
        "id": "M-VdkjxzgPJz"
      }
    },
    {
      "cell_type": "markdown",
      "source": [
        "# Módulo 01 - Introdução ao Python"
      ],
      "metadata": {
        "id": "m3cIuk6ZgU_I"
      }
    },
    {
      "cell_type": "markdown",
      "source": [
        "## 13. Funções e métodos"
      ],
      "metadata": {
        "id": "ny2VAFgmgjBB"
      }
    },
    {
      "cell_type": "markdown",
      "source": [
        "### 13.1. Funções"
      ],
      "metadata": {
        "id": "F_1HAr6TO37L"
      }
    },
    {
      "cell_type": "markdown",
      "source": [
        "Uma função é um comando capaz de realizar uma tarefa, de acordo com critérios que determinamos.\n",
        "\n",
        "A função só é executada de fato quando é chamada, e executa atividades que foram especificadas pelo usuário."
      ],
      "metadata": {
        "id": "GEvANd2cO70K"
      }
    },
    {
      "cell_type": "code",
      "source": [
        "print(\"O papel mais negociado da bolsa é PETR4\")"
      ],
      "metadata": {
        "colab": {
          "base_uri": "https://localhost:8080/"
        },
        "id": "RVvsxJ5ZRPXb",
        "outputId": "37a7d215-c5f9-4645-9574-1d7b5c435ffc"
      },
      "execution_count": null,
      "outputs": [
        {
          "output_type": "stream",
          "name": "stdout",
          "text": [
            "O papel mais negociado da bolsa é PETR4\n"
          ]
        }
      ]
    },
    {
      "cell_type": "markdown",
      "source": [
        "Vamos criar uma função que recebe um papel da bolsa e retorna uma mensagem."
      ],
      "metadata": {
        "id": "ZBrkXeczRfAE"
      }
    },
    {
      "cell_type": "code",
      "source": [
        "def mensagem_investidor():\n",
        "  print(\"O papel mais negociado da bolsa é PETR4\")"
      ],
      "metadata": {
        "id": "wmf5xJJeRpvb"
      },
      "execution_count": null,
      "outputs": []
    },
    {
      "cell_type": "code",
      "source": [
        "mensagem_investidor()"
      ],
      "metadata": {
        "colab": {
          "base_uri": "https://localhost:8080/"
        },
        "id": "hbt16vHuSFFD",
        "outputId": "76a10bb6-13a5-40a6-aea5-a419fa7474d4"
      },
      "execution_count": null,
      "outputs": [
        {
          "output_type": "stream",
          "name": "stdout",
          "text": [
            "O papel mais negociado da bolsa é PETR4\n"
          ]
        }
      ]
    },
    {
      "cell_type": "code",
      "source": [
        "def mensagem_investidor():\n",
        "  print(\"Hoje a bolsa abriu em alta de 1%\")"
      ],
      "metadata": {
        "id": "WJsHYw2SSMoL"
      },
      "execution_count": null,
      "outputs": []
    },
    {
      "cell_type": "code",
      "source": [
        "mensagem_investidor()"
      ],
      "metadata": {
        "colab": {
          "base_uri": "https://localhost:8080/"
        },
        "id": "nzbGqewQSbfb",
        "outputId": "386cf7ac-3320-40ab-ff35-318c90d28e07"
      },
      "execution_count": null,
      "outputs": [
        {
          "output_type": "stream",
          "name": "stdout",
          "text": [
            "Hoje a bolsa abriu em alta de 1%\n"
          ]
        }
      ]
    },
    {
      "cell_type": "markdown",
      "source": [
        "A função recebe argumentos"
      ],
      "metadata": {
        "id": "IVLRzwAtSety"
      }
    },
    {
      "cell_type": "code",
      "source": [
        "type(\"PETR4\")"
      ],
      "metadata": {
        "colab": {
          "base_uri": "https://localhost:8080/"
        },
        "id": "1HA4Af4mSosM",
        "outputId": "25b6469b-a6e7-48f9-8de4-b2a019af81b9"
      },
      "execution_count": null,
      "outputs": [
        {
          "output_type": "execute_result",
          "data": {
            "text/plain": [
              "str"
            ]
          },
          "metadata": {},
          "execution_count": 8
        }
      ]
    },
    {
      "cell_type": "code",
      "source": [
        "def mensagem_investidor(acao):\n",
        "  print(\"O papel mais negociado da bolsa hoje é\", acao)"
      ],
      "metadata": {
        "id": "fOFmBjHhSrNz"
      },
      "execution_count": null,
      "outputs": []
    },
    {
      "cell_type": "markdown",
      "source": [
        "O seguinte comando resultará em erro"
      ],
      "metadata": {
        "id": "QdnTS6KgTMyr"
      }
    },
    {
      "cell_type": "code",
      "source": [
        "mensagem_investidor()"
      ],
      "metadata": {
        "colab": {
          "base_uri": "https://localhost:8080/",
          "height": 166
        },
        "id": "bO_bnGJCTFFT",
        "outputId": "fb6125d6-1df8-4af9-c278-e0cfe557858c"
      },
      "execution_count": null,
      "outputs": [
        {
          "output_type": "error",
          "ename": "TypeError",
          "evalue": "ignored",
          "traceback": [
            "\u001b[0;31m---------------------------------------------------------------------------\u001b[0m",
            "\u001b[0;31mTypeError\u001b[0m                                 Traceback (most recent call last)",
            "\u001b[0;32m<ipython-input-11-7e842f2dcd41>\u001b[0m in \u001b[0;36m<module>\u001b[0;34m\u001b[0m\n\u001b[0;32m----> 1\u001b[0;31m \u001b[0mmensagem_investidor\u001b[0m\u001b[0;34m(\u001b[0m\u001b[0;34m)\u001b[0m\u001b[0;34m\u001b[0m\u001b[0;34m\u001b[0m\u001b[0m\n\u001b[0m",
            "\u001b[0;31mTypeError\u001b[0m: mensagem_investidor() missing 1 required positional argument: 'acao'"
          ]
        }
      ]
    },
    {
      "cell_type": "code",
      "source": [
        "mensagem_investidor('MGLU3')"
      ],
      "metadata": {
        "colab": {
          "base_uri": "https://localhost:8080/"
        },
        "id": "8sqRDY9OTH87",
        "outputId": "0101875b-94f4-4a5d-e756-867ddba155a9"
      },
      "execution_count": null,
      "outputs": [
        {
          "output_type": "stream",
          "name": "stdout",
          "text": [
            "O papel mais negociado da bolsa hoje é MGLU3\n"
          ]
        }
      ]
    },
    {
      "cell_type": "code",
      "source": [
        "mensagem_investidor('LREN3')"
      ],
      "metadata": {
        "colab": {
          "base_uri": "https://localhost:8080/"
        },
        "id": "r-9FN3O1TQVT",
        "outputId": "5f61251c-ad27-4da6-d027-edb2964130bd"
      },
      "execution_count": null,
      "outputs": [
        {
          "output_type": "stream",
          "name": "stdout",
          "text": [
            "O papel mais negociado da bolsa hoje é LREN3\n"
          ]
        }
      ]
    },
    {
      "cell_type": "markdown",
      "source": [
        "<center><img src = \"https://www.learnbyexample.org/wp-content/uploads/python/Python-Function-Syntax.png\" width = \"500\">"
      ],
      "metadata": {
        "id": "DUYz7dcbTShL"
      }
    },
    {
      "cell_type": "markdown",
      "source": [
        "Exercício\n",
        "\n",
        "Vamos criar agora uma nova função que vai retornar a soma de dois números, sendo estes determinados pelo usuário."
      ],
      "metadata": {
        "id": "T-1nMaDvThDT"
      }
    },
    {
      "cell_type": "code",
      "source": [
        "def soma_numeros(numero1, numero2):\n",
        "  soma = numero1 + numero2\n",
        "  return soma"
      ],
      "metadata": {
        "id": "wapcjBi2UVvb"
      },
      "execution_count": null,
      "outputs": []
    },
    {
      "cell_type": "code",
      "source": [
        "soma_numeros(9,81)"
      ],
      "metadata": {
        "colab": {
          "base_uri": "https://localhost:8080/"
        },
        "id": "iXj1EEoEUzDE",
        "outputId": "dbacb8dc-a42c-4a30-99e0-6f08b4036cc2"
      },
      "execution_count": null,
      "outputs": [
        {
          "output_type": "execute_result",
          "data": {
            "text/plain": [
              "90"
            ]
          },
          "metadata": {},
          "execution_count": 15
        }
      ]
    },
    {
      "cell_type": "code",
      "source": [
        "soma_numeros(43254, 932048)"
      ],
      "metadata": {
        "colab": {
          "base_uri": "https://localhost:8080/"
        },
        "id": "DvaAgWKtU1hb",
        "outputId": "2af1bf5b-2e50-49f8-c60c-8911ef0aac78"
      },
      "execution_count": null,
      "outputs": [
        {
          "output_type": "execute_result",
          "data": {
            "text/plain": [
              "975302"
            ]
          },
          "metadata": {},
          "execution_count": 16
        }
      ]
    },
    {
      "cell_type": "markdown",
      "source": [
        "Exercício\n",
        "\n",
        "Vamos criar agora uma nova função chamada \"preco\" que basicamente retorna a cotação de um papel, de acordo com o que for especificado pelo usuário."
      ],
      "metadata": {
        "id": "vJPJdlHpU3ZK"
      }
    },
    {
      "cell_type": "code",
      "source": [
        "def preco(acao):\n",
        "  if acao == 'PETR4':\n",
        "    print('PETR4 está R$ 24.50 neste momento')\n",
        "  elif acao == 'MGLU3':\n",
        "    print('MGLU3 está R$ 2.74 neste momento')\n",
        "  elif acao == 'WEGE3':\n",
        "    print('WEGE3 está R$ 38.51 neste momento')\n",
        "  elif acao == 'PRIO3':\n",
        "    print('PRIO3 está R$ 37.21 neste momento')\n",
        "  elif acao == 'VALE3':\n",
        "    print('VALE3 está R$ 88.88 neste momento')\n",
        "  else:\n",
        "    print('Não possuímos este papel na nossa base de dados')\n",
        "\n"
      ],
      "metadata": {
        "id": "deWg2qA4U8Aq"
      },
      "execution_count": null,
      "outputs": []
    },
    {
      "cell_type": "code",
      "source": [
        "preco('PETR4')"
      ],
      "metadata": {
        "colab": {
          "base_uri": "https://localhost:8080/"
        },
        "id": "cUcVFe-CWPdx",
        "outputId": "b1636fb1-d970-498c-c7a2-236daf6d1661"
      },
      "execution_count": null,
      "outputs": [
        {
          "output_type": "stream",
          "name": "stdout",
          "text": [
            "PETR4 está R$ 24.50 neste momento\n"
          ]
        }
      ]
    },
    {
      "cell_type": "code",
      "source": [
        "preco('VALE3')"
      ],
      "metadata": {
        "colab": {
          "base_uri": "https://localhost:8080/"
        },
        "id": "UFt5lCvgWSt7",
        "outputId": "814421a3-7bb2-44f4-c6e1-0509a02387c0"
      },
      "execution_count": null,
      "outputs": [
        {
          "output_type": "stream",
          "name": "stdout",
          "text": [
            "VALE3 está R$ 88.88 neste momento\n"
          ]
        }
      ]
    },
    {
      "cell_type": "code",
      "source": [
        "preco('SUZB3')"
      ],
      "metadata": {
        "colab": {
          "base_uri": "https://localhost:8080/"
        },
        "id": "VIdwalb0WVD6",
        "outputId": "9caa23b0-af76-43a1-aec0-f1c6f3c8cd5d"
      },
      "execution_count": null,
      "outputs": [
        {
          "output_type": "stream",
          "name": "stdout",
          "text": [
            "Não possuímos este papel na nossa base de dados\n"
          ]
        }
      ]
    },
    {
      "cell_type": "markdown",
      "source": [
        "**Docstring**\n",
        "\n",
        "\"Docstring\" é a documentação da função, ou seja, a mensagem que aparece quando o usuário consulta a ajuda da função."
      ],
      "metadata": {
        "id": "pf2-YZi1WX_j"
      }
    },
    {
      "cell_type": "code",
      "source": [
        "def preco(acao):\n",
        "\n",
        "  ''' ESSA FUNÇÃO DEVE SER UTILIZADA PARA RETORNAR A COTAÇÃO EM TEMPO REAL DE UM PAPEL '''\n",
        "\n",
        "\n",
        "  if acao == 'PETR4':\n",
        "    print('PETR4 está R$ 24.50 neste momento')\n",
        "  elif acao == 'MGLU3':\n",
        "    print('MGLU3 está R$ 2.74 neste momento')\n",
        "  elif acao == 'WEGE3':\n",
        "    print('WEGE3 está R$ 38.51 neste momento')\n",
        "  elif acao == 'PRIO3':\n",
        "    print('PRIO3 está R$ 37.21 neste momento')\n",
        "  elif acao == 'VALE3':\n",
        "    print('VALE3 está R$ 88.88 neste momento')\n",
        "  else:\n",
        "    print('Não possuímos este papel na nossa base de dados')"
      ],
      "metadata": {
        "id": "j20mVPlIXYUs"
      },
      "execution_count": null,
      "outputs": []
    },
    {
      "cell_type": "code",
      "source": [
        "preco('ABEV3')"
      ],
      "metadata": {
        "colab": {
          "base_uri": "https://localhost:8080/"
        },
        "id": "FqSCSEUMXxDg",
        "outputId": "746154d8-4182-4ac7-e7bd-7055eb8e079a"
      },
      "execution_count": null,
      "outputs": [
        {
          "output_type": "stream",
          "name": "stdout",
          "text": [
            "Não possuímos este papel na nossa base de dados\n"
          ]
        }
      ]
    },
    {
      "cell_type": "markdown",
      "source": [
        "### 13.2. Métodos"
      ],
      "metadata": {
        "id": "OCESK5IrX2wK"
      }
    },
    {
      "cell_type": "markdown",
      "source": [
        "Métodos são funções aplicáveis apenas a determinados tipos de objetos. Todos os métodos são funções, mas nem todas as funções são métodos. Os métodos são executados ao fim dos objetos e separados com um ponto."
      ],
      "metadata": {
        "id": "-8yeT1SwYIqt"
      }
    },
    {
      "cell_type": "markdown",
      "source": [
        "Exemplos com listas"
      ],
      "metadata": {
        "id": "8j91mHqxaN0E"
      }
    },
    {
      "cell_type": "code",
      "source": [
        "numeros = [1,2,3,4,5,7,9,11,15]"
      ],
      "metadata": {
        "id": "b-KIfSSkaQ6h"
      },
      "execution_count": null,
      "outputs": []
    },
    {
      "cell_type": "markdown",
      "source": [
        "O operador 'append' é, na verdade, um método"
      ],
      "metadata": {
        "id": "T4zAI9nuaSUx"
      }
    },
    {
      "cell_type": "code",
      "source": [
        "numeros.append(18)"
      ],
      "metadata": {
        "id": "9uLSieFdaVVy"
      },
      "execution_count": null,
      "outputs": []
    },
    {
      "cell_type": "code",
      "source": [
        "numeros"
      ],
      "metadata": {
        "colab": {
          "base_uri": "https://localhost:8080/"
        },
        "id": "h0P7Te-Paa9z",
        "outputId": "5f6236ca-6382-4b13-deee-1cf6785cd3c4"
      },
      "execution_count": null,
      "outputs": [
        {
          "output_type": "execute_result",
          "data": {
            "text/plain": [
              "[1, 2, 3, 4, 5, 7, 9, 11, 15, 18, 18, 18]"
            ]
          },
          "metadata": {},
          "execution_count": 29
        }
      ]
    },
    {
      "cell_type": "markdown",
      "source": [
        "Alguns outros métodos para listas"
      ],
      "metadata": {
        "id": "74kn-3pUapBK"
      }
    },
    {
      "cell_type": "code",
      "source": [
        "numeros.pop()"
      ],
      "metadata": {
        "colab": {
          "base_uri": "https://localhost:8080/"
        },
        "id": "v2m3SSu6a9LC",
        "outputId": "a7750660-bae2-4c25-e479-2f6437f246c1"
      },
      "execution_count": null,
      "outputs": [
        {
          "output_type": "execute_result",
          "data": {
            "text/plain": [
              "18"
            ]
          },
          "metadata": {},
          "execution_count": 30
        }
      ]
    },
    {
      "cell_type": "code",
      "source": [
        "numeros"
      ],
      "metadata": {
        "colab": {
          "base_uri": "https://localhost:8080/"
        },
        "id": "-jztOskZa_A6",
        "outputId": "fb4ef6fe-c7cd-4ef5-ab92-7a5c7210081e"
      },
      "execution_count": null,
      "outputs": [
        {
          "output_type": "execute_result",
          "data": {
            "text/plain": [
              "[1, 2, 3, 4, 5, 7, 9, 11, 15, 18, 18]"
            ]
          },
          "metadata": {},
          "execution_count": 31
        }
      ]
    },
    {
      "cell_type": "code",
      "source": [
        "numeros.reverse()"
      ],
      "metadata": {
        "id": "w0cdN2DcbCCa"
      },
      "execution_count": null,
      "outputs": []
    },
    {
      "cell_type": "code",
      "source": [
        "numeros"
      ],
      "metadata": {
        "colab": {
          "base_uri": "https://localhost:8080/"
        },
        "id": "93_sWW9qbKoC",
        "outputId": "5bebb3ae-eacc-471a-ded4-d04858da6805"
      },
      "execution_count": null,
      "outputs": [
        {
          "output_type": "execute_result",
          "data": {
            "text/plain": [
              "[18, 18, 15, 11, 9, 7, 5, 4, 3, 2, 1]"
            ]
          },
          "metadata": {},
          "execution_count": 33
        }
      ]
    },
    {
      "cell_type": "markdown",
      "source": [
        "Alguns métodos aplicáveis a strings"
      ],
      "metadata": {
        "id": "bnbjn_-5bLqa"
      }
    },
    {
      "cell_type": "code",
      "source": [
        "texto_investidor = \"PETR4 está num preço interessante\""
      ],
      "metadata": {
        "id": "nEyiqtKpbVua"
      },
      "execution_count": null,
      "outputs": []
    },
    {
      "cell_type": "code",
      "source": [
        "texto_investidor.split()"
      ],
      "metadata": {
        "colab": {
          "base_uri": "https://localhost:8080/"
        },
        "id": "NST-xoSrbX7i",
        "outputId": "de4c5690-66d6-448e-f508-3b4df0d3a696"
      },
      "execution_count": null,
      "outputs": [
        {
          "output_type": "execute_result",
          "data": {
            "text/plain": [
              "['PETR4', 'está', 'num', 'preço', 'interessante']"
            ]
          },
          "metadata": {},
          "execution_count": 35
        }
      ]
    },
    {
      "cell_type": "code",
      "source": [
        "palavras = texto_investidor.split()"
      ],
      "metadata": {
        "id": "8Aa5uz1GbbNS"
      },
      "execution_count": null,
      "outputs": []
    },
    {
      "cell_type": "code",
      "source": [
        "palavras[0]"
      ],
      "metadata": {
        "colab": {
          "base_uri": "https://localhost:8080/",
          "height": 35
        },
        "id": "DoCDdZr-bfey",
        "outputId": "4adb761c-3fc5-4a3a-e3d5-7168559371b1"
      },
      "execution_count": null,
      "outputs": [
        {
          "output_type": "execute_result",
          "data": {
            "text/plain": [
              "'PETR4'"
            ],
            "application/vnd.google.colaboratory.intrinsic+json": {
              "type": "string"
            }
          },
          "metadata": {},
          "execution_count": 37
        }
      ]
    },
    {
      "cell_type": "code",
      "source": [
        "palavras[2]"
      ],
      "metadata": {
        "colab": {
          "base_uri": "https://localhost:8080/",
          "height": 35
        },
        "id": "dvkbILOxbgM6",
        "outputId": "edeb4cf5-f72c-41f8-aed0-74a6adb1e117"
      },
      "execution_count": null,
      "outputs": [
        {
          "output_type": "execute_result",
          "data": {
            "text/plain": [
              "'num'"
            ],
            "application/vnd.google.colaboratory.intrinsic+json": {
              "type": "string"
            }
          },
          "metadata": {},
          "execution_count": 38
        }
      ]
    },
    {
      "cell_type": "markdown",
      "source": [
        "Métodos para dicionários"
      ],
      "metadata": {
        "id": "AHiNwznmbhQq"
      }
    },
    {
      "cell_type": "code",
      "source": [
        "dicionario_precos = {'PRIO3': 20, 'BBDC4': 16, 'BRKM5': 54}"
      ],
      "metadata": {
        "id": "oBlgq3zrbmzi"
      },
      "execution_count": null,
      "outputs": []
    },
    {
      "cell_type": "code",
      "source": [
        "dicionario_precos.keys()"
      ],
      "metadata": {
        "colab": {
          "base_uri": "https://localhost:8080/"
        },
        "id": "T0MWaeEZboSh",
        "outputId": "a6a0b565-077d-4ebd-86f6-7617ecacd0f5"
      },
      "execution_count": null,
      "outputs": [
        {
          "output_type": "execute_result",
          "data": {
            "text/plain": [
              "dict_keys(['PRIO3', 'BBDC4', 'BRKM5'])"
            ]
          },
          "metadata": {},
          "execution_count": 40
        }
      ]
    },
    {
      "cell_type": "code",
      "source": [
        "dicionario_precos.values()"
      ],
      "metadata": {
        "colab": {
          "base_uri": "https://localhost:8080/"
        },
        "id": "XCk8TDePbt5q",
        "outputId": "91e747da-bfce-4b89-f80d-22b4c0544149"
      },
      "execution_count": null,
      "outputs": [
        {
          "output_type": "execute_result",
          "data": {
            "text/plain": [
              "dict_values([20, 16, 54])"
            ]
          },
          "metadata": {},
          "execution_count": 41
        }
      ]
    },
    {
      "cell_type": "markdown",
      "source": [
        "## 14. Escopo das variáveis"
      ],
      "metadata": {
        "id": "TI-bMo3ubvrD"
      }
    },
    {
      "cell_type": "code",
      "source": [
        "a = 40"
      ],
      "metadata": {
        "id": "dl8tKVL7cSWS"
      },
      "execution_count": null,
      "outputs": []
    },
    {
      "cell_type": "code",
      "source": [
        "a"
      ],
      "metadata": {
        "colab": {
          "base_uri": "https://localhost:8080/"
        },
        "id": "nONncgFqcaH7",
        "outputId": "807f9f31-4454-40d7-f6af-54525688e97e"
      },
      "execution_count": null,
      "outputs": [
        {
          "output_type": "execute_result",
          "data": {
            "text/plain": [
              "40"
            ]
          },
          "metadata": {},
          "execution_count": 43
        }
      ]
    },
    {
      "cell_type": "markdown",
      "source": [
        "Podemos entender o escopo como a \"área de atuação\" de uma variável."
      ],
      "metadata": {
        "id": "34M4BgZFccc7"
      }
    },
    {
      "cell_type": "markdown",
      "source": [
        "Escopo global"
      ],
      "metadata": {
        "id": "pzQlvyzOcmz7"
      }
    },
    {
      "cell_type": "code",
      "source": [
        "acao = 'PETR4'"
      ],
      "metadata": {
        "id": "2ElIPb5JcorS"
      },
      "execution_count": null,
      "outputs": []
    },
    {
      "cell_type": "code",
      "source": [
        "acao"
      ],
      "metadata": {
        "colab": {
          "base_uri": "https://localhost:8080/",
          "height": 35
        },
        "id": "Hoc2_9O-cqLK",
        "outputId": "af68abdb-da58-49cf-9fd8-6c930d4bb1a1"
      },
      "execution_count": null,
      "outputs": [
        {
          "output_type": "execute_result",
          "data": {
            "text/plain": [
              "'PETR4'"
            ],
            "application/vnd.google.colaboratory.intrinsic+json": {
              "type": "string"
            }
          },
          "metadata": {},
          "execution_count": 46
        }
      ]
    },
    {
      "cell_type": "markdown",
      "source": [
        "Vamos implementar uma situação em que o escopo da variável é local"
      ],
      "metadata": {
        "id": "uBbazARfcqw6"
      }
    },
    {
      "cell_type": "code",
      "source": [
        "\"O cliente quer comprar XXXX ações do papel YYYY\""
      ],
      "metadata": {
        "colab": {
          "base_uri": "https://localhost:8080/",
          "height": 35
        },
        "id": "V2n-v-eMdDrK",
        "outputId": "31eac812-9ecd-49b5-88f9-a00fcc156ed5"
      },
      "execution_count": null,
      "outputs": [
        {
          "output_type": "execute_result",
          "data": {
            "text/plain": [
              "'O cliente quer comprar XXXX ações do papel YYYY'"
            ],
            "application/vnd.google.colaboratory.intrinsic+json": {
              "type": "string"
            }
          },
          "metadata": {},
          "execution_count": 48
        }
      ]
    },
    {
      "cell_type": "code",
      "source": [
        "def papel_cliente(numero, papel):\n",
        "  acao = f\"O cliente quer comprar {numero} de ações do papel {papel}\"\n",
        "  return acao"
      ],
      "metadata": {
        "id": "hDzVhi66dRsy"
      },
      "execution_count": null,
      "outputs": []
    },
    {
      "cell_type": "code",
      "source": [
        "papel_cliente(200, 'SANB11')"
      ],
      "metadata": {
        "colab": {
          "base_uri": "https://localhost:8080/",
          "height": 35
        },
        "id": "nWsGQfYZdlDi",
        "outputId": "3cfeac39-cd86-4a6d-ea17-012328391cc4"
      },
      "execution_count": null,
      "outputs": [
        {
          "output_type": "execute_result",
          "data": {
            "text/plain": [
              "'O cliente quer comprar 200 de ações do papel SANB11'"
            ],
            "application/vnd.google.colaboratory.intrinsic+json": {
              "type": "string"
            }
          },
          "metadata": {},
          "execution_count": 51
        }
      ]
    },
    {
      "cell_type": "markdown",
      "source": [
        "Se eu pedir o valor de 'acao', o que você acha que será retornado?"
      ],
      "metadata": {
        "id": "A61Z9yxPdqGy"
      }
    },
    {
      "cell_type": "code",
      "source": [
        "acao"
      ],
      "metadata": {
        "colab": {
          "base_uri": "https://localhost:8080/",
          "height": 35
        },
        "id": "XfYlVrPxd5lB",
        "outputId": "d616971f-f454-4442-8c18-2fed94bda870"
      },
      "execution_count": null,
      "outputs": [
        {
          "output_type": "execute_result",
          "data": {
            "text/plain": [
              "'PETR4'"
            ],
            "application/vnd.google.colaboratory.intrinsic+json": {
              "type": "string"
            }
          },
          "metadata": {},
          "execution_count": 52
        }
      ]
    },
    {
      "cell_type": "code",
      "source": [
        "acao"
      ],
      "metadata": {
        "colab": {
          "base_uri": "https://localhost:8080/",
          "height": 35
        },
        "id": "Rp71lH_Dd6qi",
        "outputId": "2e6828ba-416f-4729-fb62-af815a881465"
      },
      "execution_count": null,
      "outputs": [
        {
          "output_type": "execute_result",
          "data": {
            "text/plain": [
              "'PETR4'"
            ],
            "application/vnd.google.colaboratory.intrinsic+json": {
              "type": "string"
            }
          },
          "metadata": {},
          "execution_count": 53
        }
      ]
    },
    {
      "cell_type": "code",
      "source": [],
      "metadata": {
        "id": "nFXXYYmFeEBi"
      },
      "execution_count": null,
      "outputs": []
    }
  ]
}